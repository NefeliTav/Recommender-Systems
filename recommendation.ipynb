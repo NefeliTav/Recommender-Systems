{
 "cells": [
  {
   "cell_type": "code",
   "execution_count": null,
   "id": "growing-broadway",
   "metadata": {},
   "outputs": [],
   "source": [
    "import os\n",
    "from surprise import SVD\n",
    "\n",
    "from surprise import Reader\n",
    "from surprise import Dataset\n",
    "\n",
    "from surprise.model_selection import *\n",
    "from surprise.prediction_algorithms import *"
   ]
  },
  {
   "cell_type": "code",
   "execution_count": null,
   "id": "nearby-lewis",
   "metadata": {},
   "outputs": [],
   "source": [
    "file_path = os.path.expanduser('./dataset/ratings_1.csv')\n",
    "reader = Reader(line_format='user item rating', sep=',',\n",
    "                rating_scale=[1, 5], skip_lines=1)\n",
    "data = Dataset.load_from_file(file_path, reader=reader)"
   ]
  },
  {
   "cell_type": "code",
   "execution_count": null,
   "id": "reflected-brisbane",
   "metadata": {},
   "outputs": [],
   "source": [
    "algo = NormalPredictor()\n",
    "cross_validate(algo, data, measures=['RMSE'], cv=5, verbose=True)"
   ]
  },
  {
   "cell_type": "code",
   "execution_count": null,
   "id": "written-chase",
   "metadata": {},
   "outputs": [],
   "source": [
    "algo = BaselineOnly(bsl_options={}, verbose=True)\n",
    "cross_validate(algo, data, measures=['RMSE'], cv=5, verbose=True)"
   ]
  },
  {
   "cell_type": "code",
   "execution_count": null,
   "id": "chubby-nebraska",
   "metadata": {},
   "outputs": [],
   "source": [
    "algo = KNNBasic(k=40, min_k=1, sim_options={}, verbose=True)\n",
    "cross_validate(algo, data, measures=['RMSE'], cv=5, verbose=True)"
   ]
  },
  {
   "cell_type": "code",
   "execution_count": null,
   "id": "renewable-heavy",
   "metadata": {
    "scrolled": true
   },
   "outputs": [],
   "source": [
    "algo = KNNWithMeans(k=40, min_k=1,\n",
    "                    sim_options=similarity_options, verbose=True)\n",
    "\n",
    "cross_validate(algo, data, measures=['RMSE'], cv=5, verbose=True)"
   ]
  },
  {
   "cell_type": "code",
   "execution_count": null,
   "id": "heard-handle",
   "metadata": {},
   "outputs": [],
   "source": [
    "algo = KNNWithMeans(k=40, min_k=1, sim_options={}, verbose=True)\n",
    "cross_validate(algo, data, measures=['RMSE'], cv=5, verbose=True)"
   ]
  },
  {
   "cell_type": "code",
   "execution_count": null,
   "id": "meaningful-marketplace",
   "metadata": {},
   "outputs": [],
   "source": [
    "algo = KNNWithZScore(k=40, min_k=1, sim_options={}, verbose=True)\n",
    "cross_validate(algo, data, measures=['RMSE'], cv=5, verbose=True)"
   ]
  },
  {
   "cell_type": "code",
   "execution_count": null,
   "id": "religious-detroit",
   "metadata": {},
   "outputs": [],
   "source": [
    "algo = KNNBaseline(k=40, min_k=1, sim_options={}, verbose=True)\n",
    "cross_validate(algo, data, measures=['RMSE'], cv=5, verbose=True)"
   ]
  },
  {
   "cell_type": "code",
   "execution_count": null,
   "id": "egyptian-reading",
   "metadata": {},
   "outputs": [],
   "source": [
    "number_of_factors = 100\n",
    "use_together_with_baseline_estimator = True\n",
    "number_of_epochs = 20\n",
    "learning_rate = .005\n",
    "lambda_parameter = .02\n",
    "\n",
    "algo = SVD(n_factors=number_of_factors,\n",
    "           biased=use_together_with_baseline_estimator,\n",
    "           n_epochs=number_of_epochs,\n",
    "           lr_all=learning_rate,\n",
    "           reg_all=lambda_parameter,\n",
    "           verbose=True)\n",
    "\n",
    "cross_validate(algo, data, measures=['RMSE'], cv=5, verbose=True)"
   ]
  },
  {
   "cell_type": "code",
   "execution_count": null,
   "id": "eastern-protest",
   "metadata": {},
   "outputs": [],
   "source": [
    "number_of_factors = 20\n",
    "number_of_epochs = 20\n",
    "learning_rate = .007\n",
    "lambda_parameter = .02\n",
    "\n",
    "algo = SVDpp(n_factors=number_of_factors,\n",
    "             n_epochs=number_of_epochs,\n",
    "             lr_all=learning_rate,\n",
    "             reg_all=lambda_parameter,\n",
    "             verbose=True)\n",
    "\n",
    "cross_validate(algo, data, measures=['RMSE'], cv=5, verbose=True)"
   ]
  },
  {
   "cell_type": "code",
   "execution_count": null,
   "id": "affecting-success",
   "metadata": {},
   "outputs": [],
   "source": [
    "number_of_factors = 15\n",
    "number_of_epochs = 50\n",
    "use_together_with_baseline_estimator = False\n",
    "learning_rate = .007\n",
    "\n",
    "algo = NMF(n_factors=number_of_factors,\n",
    "           biased=use_together_with_baseline_estimator,\n",
    "           n_epochs=number_of_epochs,\n",
    "           verbose=True)\n",
    "\n",
    "cross_validate(algo, data, measures=['RMSE'], cv=5, verbose=True)"
   ]
  },
  {
   "cell_type": "code",
   "execution_count": null,
   "id": "human-mechanism",
   "metadata": {},
   "outputs": [],
   "source": [
    "algo = SlopeOne()\n",
    "cross_validate(algo, data, measures=['RMSE'], cv=5, verbose=True)"
   ]
  },
  {
   "cell_type": "code",
   "execution_count": null,
   "id": "british-consortium",
   "metadata": {},
   "outputs": [],
   "source": [
    "algo = CoClustering(n_cltr_u=3, n_cltr_i=3, n_epochs=20,\n",
    "                    random_state=None, verbose=False)\n",
    "cross_validate(algo, data, measures=['RMSE'], cv=5, verbose=True)"
   ]
  },
  {
   "cell_type": "code",
   "execution_count": null,
   "id": "developing-hypothesis",
   "metadata": {},
   "outputs": [],
   "source": []
  }
 ],
 "metadata": {
  "kernelspec": {
   "display_name": "Python 3",
   "language": "python",
   "name": "python3"
  },
  "language_info": {
   "codemirror_mode": {
    "name": "ipython",
    "version": 3
   },
   "file_extension": ".py",
   "mimetype": "text/x-python",
   "name": "python",
   "nbconvert_exporter": "python",
   "pygments_lexer": "ipython3",
   "version": "3.8.5"
  }
 },
 "nbformat": 4,
 "nbformat_minor": 5
}
