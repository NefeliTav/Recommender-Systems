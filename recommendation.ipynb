{
 "cells": [
  {
   "cell_type": "code",
   "execution_count": 1,
   "id": "growing-broadway",
   "metadata": {},
   "outputs": [],
   "source": [
    "import os\n",
    "from surprise import SVD\n",
    "\n",
    "from surprise import Reader\n",
    "from surprise import Dataset\n",
    "\n",
    "from surprise.model_selection import *\n",
    "from surprise.prediction_algorithms import *"
   ]
  },
  {
   "cell_type": "code",
   "execution_count": 2,
   "id": "nearby-lewis",
   "metadata": {},
   "outputs": [],
   "source": [
    "file_path = os.path.expanduser('./dataset/ratings_1.csv')\n",
    "reader = Reader(line_format='user item rating', sep=',',\n",
    "                rating_scale=[1, 5], skip_lines=1)\n",
    "data = Dataset.load_from_file(file_path, reader=reader)"
   ]
  },
  {
   "cell_type": "code",
   "execution_count": 9,
   "id": "reflected-brisbane",
   "metadata": {},
   "outputs": [
    {
     "name": "stdout",
     "output_type": "stream",
     "text": [
      "Evaluating RMSE of algorithm NormalPredictor on 5 split(s).\n",
      "\n",
      "                  Fold 1  Fold 2  Fold 3  Fold 4  Fold 5  Mean    Std     \n",
      "RMSE (testset)    1.5051  1.5088  1.5032  1.5061  1.5002  1.5047  0.0029  \n",
      "Fit time          0.12    0.16    0.16    0.16    0.16    0.15    0.02    \n",
      "Test time         0.18    0.19    0.18    0.19    0.18    0.19    0.00    \n"
     ]
    },
    {
     "data": {
      "text/plain": [
       "{'test_rmse': array([1.50505725, 1.50877884, 1.5031507 , 1.50612138, 1.50015873]),\n",
       " 'fit_time': (0.1190023422241211,\n",
       "  0.1557154655456543,\n",
       "  0.16294384002685547,\n",
       "  0.1559309959411621,\n",
       "  0.15606188774108887),\n",
       " 'test_time': (0.18471527099609375,\n",
       "  0.18528294563293457,\n",
       "  0.17889070510864258,\n",
       "  0.1932811737060547,\n",
       "  0.18289685249328613)}"
      ]
     },
     "execution_count": 9,
     "metadata": {},
     "output_type": "execute_result"
    }
   ],
   "source": [
    "algo = NormalPredictor()\n",
    "cross_validate(algo, data, measures=['RMSE'], cv=5, verbose=True)"
   ]
  },
  {
   "cell_type": "code",
   "execution_count": 8,
   "id": "written-chase",
   "metadata": {},
   "outputs": [
    {
     "name": "stdout",
     "output_type": "stream",
     "text": [
      "Estimating biases using sgd...\n",
      "Estimating biases using sgd...\n",
      "Estimating biases using sgd...\n",
      "Estimating biases using sgd...\n",
      "Estimating biases using sgd...\n",
      "Evaluating RMSE of algorithm BaselineOnly on 5 split(s).\n",
      "\n",
      "                  Fold 1  Fold 2  Fold 3  Fold 4  Fold 5  Mean    Std     \n",
      "RMSE (testset)    0.9173  0.9158  0.9127  0.9162  0.9197  0.9163  0.0023  \n",
      "Fit time          1.14    1.25    1.22    1.19    1.14    1.19    0.05    \n",
      "Test time         0.13    0.14    0.14    0.13    0.13    0.13    0.00    \n"
     ]
    },
    {
     "data": {
      "text/plain": [
       "{'test_rmse': array([0.91727437, 0.91579655, 0.91270248, 0.91622557, 0.91967138]),\n",
       " 'fit_time': (1.1370832920074463,\n",
       "  1.2504956722259521,\n",
       "  1.2215907573699951,\n",
       "  1.1935179233551025,\n",
       "  1.1350059509277344),\n",
       " 'test_time': (0.13445305824279785,\n",
       "  0.13799762725830078,\n",
       "  0.13516998291015625,\n",
       "  0.1336827278137207,\n",
       "  0.1323986053466797)}"
      ]
     },
     "execution_count": 8,
     "metadata": {},
     "output_type": "execute_result"
    }
   ],
   "source": [
    "bsl = {\n",
    "    'method': \"sgd\",\n",
    "    'learning_rate': 0.005,\n",
    "    'n_epochs': 50, \n",
    "    'reg': 0.02,\n",
    "}\n",
    "algo = BaselineOnly(bsl_options=bsl, verbose=True)\n",
    "cross_validate(algo, data, measures=['RMSE'], cv=5, verbose=True)"
   ]
  },
  {
   "cell_type": "code",
   "execution_count": 11,
   "id": "chubby-nebraska",
   "metadata": {},
   "outputs": [
    {
     "name": "stdout",
     "output_type": "stream",
     "text": [
      "Computing the cosine similarity matrix...\n",
      "Done computing similarity matrix.\n",
      "Computing the cosine similarity matrix...\n",
      "Done computing similarity matrix.\n",
      "Computing the cosine similarity matrix...\n",
      "Done computing similarity matrix.\n",
      "Computing the cosine similarity matrix...\n",
      "Done computing similarity matrix.\n",
      "Computing the cosine similarity matrix...\n",
      "Done computing similarity matrix.\n",
      "Evaluating RMSE of algorithm KNNBasic on 5 split(s).\n",
      "\n",
      "                  Fold 1  Fold 2  Fold 3  Fold 4  Fold 5  Mean    Std     \n",
      "RMSE (testset)    1.0065  1.0064  1.0117  1.0053  1.0050  1.0070  0.0024  \n",
      "Fit time          3.69    3.57    3.84    3.74    3.73    3.71    0.09    \n",
      "Test time         6.23    6.50    6.58    6.61    6.61    6.50    0.14    \n"
     ]
    },
    {
     "data": {
      "text/plain": [
       "{'test_rmse': array([1.00654113, 1.0064069 , 1.01171412, 1.00533748, 1.00501664]),\n",
       " 'fit_time': (3.693671226501465,\n",
       "  3.5678300857543945,\n",
       "  3.8372340202331543,\n",
       "  3.7411367893218994,\n",
       "  3.734321117401123),\n",
       " 'test_time': (6.226246356964111,\n",
       "  6.495122671127319,\n",
       "  6.579142808914185,\n",
       "  6.606206893920898,\n",
       "  6.608976364135742)}"
      ]
     },
     "execution_count": 11,
     "metadata": {},
     "output_type": "execute_result"
    }
   ],
   "source": [
    "max_neighbors = 40\n",
    "min_neighbors = 1\n",
    "similarity_options = {\n",
    "    'user_based': False, \n",
    "    'name': \"cosine\",\n",
    "    'min_support': 3,\n",
    "}\n",
    "\n",
    "algo = KNNBasic(k=max_neighbors, min_k=min_neighbors,\n",
    "                sim_options=similarity_options, verbose=True)\n",
    "\n",
    "cross_validate(algo, data, measures=['RMSE'], cv=5, verbose=True)"
   ]
  },
  {
   "cell_type": "code",
   "execution_count": 12,
   "id": "renewable-heavy",
   "metadata": {
    "scrolled": true
   },
   "outputs": [
    {
     "name": "stdout",
     "output_type": "stream",
     "text": [
      "Computing the cosine similarity matrix...\n",
      "Done computing similarity matrix.\n",
      "Computing the cosine similarity matrix...\n",
      "Done computing similarity matrix.\n",
      "Computing the cosine similarity matrix...\n",
      "Done computing similarity matrix.\n",
      "Computing the cosine similarity matrix...\n",
      "Done computing similarity matrix.\n",
      "Computing the cosine similarity matrix...\n",
      "Done computing similarity matrix.\n",
      "Evaluating RMSE of algorithm KNNWithMeans on 5 split(s).\n",
      "\n",
      "                  Fold 1  Fold 2  Fold 3  Fold 4  Fold 5  Mean    Std     \n",
      "RMSE (testset)    0.9203  0.9172  0.9109  0.9163  0.9179  0.9165  0.0031  \n",
      "Fit time          4.02    4.29    4.15    3.95    4.22    4.13    0.13    \n",
      "Test time         7.53    7.34    7.01    7.51    7.39    7.36    0.19    \n"
     ]
    },
    {
     "data": {
      "text/plain": [
       "{'test_rmse': array([0.92026258, 0.91718128, 0.91086821, 0.9162915 , 0.91787824]),\n",
       " 'fit_time': (4.019234657287598,\n",
       "  4.287554502487183,\n",
       "  4.151025772094727,\n",
       "  3.9452571868896484,\n",
       "  4.222806215286255),\n",
       " 'test_time': (7.528066873550415,\n",
       "  7.344459533691406,\n",
       "  7.009069204330444,\n",
       "  7.513416528701782,\n",
       "  7.394527196884155)}"
      ]
     },
     "execution_count": 12,
     "metadata": {},
     "output_type": "execute_result"
    }
   ],
   "source": [
    "algo = KNNWithMeans(k=max_neighbors, min_k=min_neighbors,\n",
    "                    sim_options=similarity_options, verbose=True)\n",
    "\n",
    "cross_validate(algo, data, measures=['RMSE'], cv=5, verbose=True)"
   ]
  },
  {
   "cell_type": "code",
   "execution_count": 13,
   "id": "heard-handle",
   "metadata": {},
   "outputs": [
    {
     "name": "stdout",
     "output_type": "stream",
     "text": [
      "Estimating biases using als...\n",
      "Computing the cosine similarity matrix...\n",
      "Done computing similarity matrix.\n",
      "Estimating biases using als...\n",
      "Computing the cosine similarity matrix...\n",
      "Done computing similarity matrix.\n",
      "Estimating biases using als...\n",
      "Computing the cosine similarity matrix...\n",
      "Done computing similarity matrix.\n",
      "Estimating biases using als...\n",
      "Computing the cosine similarity matrix...\n",
      "Done computing similarity matrix.\n",
      "Estimating biases using als...\n",
      "Computing the cosine similarity matrix...\n",
      "Done computing similarity matrix.\n",
      "Evaluating RMSE of algorithm KNNBaseline on 5 split(s).\n",
      "\n",
      "                  Fold 1  Fold 2  Fold 3  Fold 4  Fold 5  Mean    Std     \n",
      "RMSE (testset)    0.9107  0.9102  0.9159  0.9185  0.9153  0.9141  0.0032  \n",
      "Fit time          3.99    4.07    4.32    4.25    4.37    4.20    0.15    \n",
      "Test time         7.06    6.91    7.26    7.76    7.73    7.34    0.34    \n"
     ]
    },
    {
     "data": {
      "text/plain": [
       "{'test_rmse': array([0.91074609, 0.9102309 , 0.91592942, 0.91852436, 0.91531341]),\n",
       " 'fit_time': (3.990248203277588,\n",
       "  4.073612689971924,\n",
       "  4.322655200958252,\n",
       "  4.253809452056885,\n",
       "  4.367433547973633),\n",
       " 'test_time': (7.062510967254639,\n",
       "  6.913889408111572,\n",
       "  7.259570837020874,\n",
       "  7.757489442825317,\n",
       "  7.729433059692383)}"
      ]
     },
     "execution_count": 13,
     "metadata": {},
     "output_type": "execute_result"
    }
   ],
   "source": [
    "algo = KNNBaseline(k=max_neighbors, min_k=min_neighbors,\n",
    "                   sim_options=similarity_options, verbose=True)\n",
    "\n",
    "cross_validate(algo, data, measures=['RMSE'], cv=5, verbose=True)"
   ]
  },
  {
   "cell_type": "code",
   "execution_count": 14,
   "id": "meaningful-marketplace",
   "metadata": {},
   "outputs": [
    {
     "name": "stdout",
     "output_type": "stream",
     "text": [
      "Processing epoch 0\n",
      "Processing epoch 1\n",
      "Processing epoch 2\n",
      "Processing epoch 3\n",
      "Processing epoch 4\n",
      "Processing epoch 5\n",
      "Processing epoch 6\n",
      "Processing epoch 7\n",
      "Processing epoch 8\n",
      "Processing epoch 9\n",
      "Processing epoch 10\n",
      "Processing epoch 11\n",
      "Processing epoch 12\n",
      "Processing epoch 13\n",
      "Processing epoch 14\n",
      "Processing epoch 15\n",
      "Processing epoch 16\n",
      "Processing epoch 17\n",
      "Processing epoch 18\n",
      "Processing epoch 19\n",
      "Processing epoch 0\n",
      "Processing epoch 1\n",
      "Processing epoch 2\n",
      "Processing epoch 3\n",
      "Processing epoch 4\n",
      "Processing epoch 5\n",
      "Processing epoch 6\n",
      "Processing epoch 7\n",
      "Processing epoch 8\n",
      "Processing epoch 9\n",
      "Processing epoch 10\n",
      "Processing epoch 11\n",
      "Processing epoch 12\n",
      "Processing epoch 13\n",
      "Processing epoch 14\n",
      "Processing epoch 15\n",
      "Processing epoch 16\n",
      "Processing epoch 17\n",
      "Processing epoch 18\n",
      "Processing epoch 19\n",
      "Processing epoch 0\n",
      "Processing epoch 1\n",
      "Processing epoch 2\n",
      "Processing epoch 3\n",
      "Processing epoch 4\n",
      "Processing epoch 5\n",
      "Processing epoch 6\n",
      "Processing epoch 7\n",
      "Processing epoch 8\n",
      "Processing epoch 9\n",
      "Processing epoch 10\n",
      "Processing epoch 11\n",
      "Processing epoch 12\n",
      "Processing epoch 13\n",
      "Processing epoch 14\n",
      "Processing epoch 15\n",
      "Processing epoch 16\n",
      "Processing epoch 17\n",
      "Processing epoch 18\n",
      "Processing epoch 19\n",
      "Processing epoch 0\n",
      "Processing epoch 1\n",
      "Processing epoch 2\n",
      "Processing epoch 3\n",
      "Processing epoch 4\n",
      "Processing epoch 5\n",
      "Processing epoch 6\n",
      "Processing epoch 7\n",
      "Processing epoch 8\n",
      "Processing epoch 9\n",
      "Processing epoch 10\n",
      "Processing epoch 11\n",
      "Processing epoch 12\n",
      "Processing epoch 13\n",
      "Processing epoch 14\n",
      "Processing epoch 15\n",
      "Processing epoch 16\n",
      "Processing epoch 17\n",
      "Processing epoch 18\n",
      "Processing epoch 19\n",
      "Processing epoch 0\n",
      "Processing epoch 1\n",
      "Processing epoch 2\n",
      "Processing epoch 3\n",
      "Processing epoch 4\n",
      "Processing epoch 5\n",
      "Processing epoch 6\n",
      "Processing epoch 7\n",
      "Processing epoch 8\n",
      "Processing epoch 9\n",
      "Processing epoch 10\n",
      "Processing epoch 11\n",
      "Processing epoch 12\n",
      "Processing epoch 13\n",
      "Processing epoch 14\n",
      "Processing epoch 15\n",
      "Processing epoch 16\n",
      "Processing epoch 17\n",
      "Processing epoch 18\n",
      "Processing epoch 19\n",
      "Evaluating RMSE of algorithm SVD on 5 split(s).\n",
      "\n",
      "                  Fold 1  Fold 2  Fold 3  Fold 4  Fold 5  Mean    Std     \n",
      "RMSE (testset)    0.9057  0.9023  0.9120  0.9105  0.9131  0.9087  0.0041  \n",
      "Fit time          6.81    6.71    6.81    6.77    6.96    6.81    0.08    \n",
      "Test time         0.23    0.22    0.22    0.29    0.31    0.25    0.04    \n"
     ]
    },
    {
     "data": {
      "text/plain": [
       "{'test_rmse': array([0.90570575, 0.90225014, 0.91202103, 0.91051584, 0.91307763]),\n",
       " 'fit_time': (6.812334775924683,\n",
       "  6.714956521987915,\n",
       "  6.8070290088653564,\n",
       "  6.773496627807617,\n",
       "  6.962108135223389),\n",
       " 'test_time': (0.22855401039123535,\n",
       "  0.21863055229187012,\n",
       "  0.22029733657836914,\n",
       "  0.28783655166625977,\n",
       "  0.30803823471069336)}"
      ]
     },
     "execution_count": 14,
     "metadata": {},
     "output_type": "execute_result"
    }
   ],
   "source": [
    "number_of_factors = 100\n",
    "use_together_with_baseline_estimator = True  \n",
    "number_of_epochs = 20\n",
    "learning_rate = .005\n",
    "lambda_parameter = .02\n",
    "\n",
    "algo = SVD(n_factors=number_of_factors,\n",
    "                   biased=use_together_with_baseline_estimator,\n",
    "                   n_epochs=number_of_epochs,\n",
    "                   lr_all=learning_rate,\n",
    "                   reg_all=lambda_parameter,\n",
    "                   verbose=True)\n",
    "\n",
    "cross_validate(algo, data, measures=['RMSE'], cv=5, verbose=True)"
   ]
  }
 ],
 "metadata": {
  "kernelspec": {
   "display_name": "Python 3",
   "language": "python",
   "name": "python3"
  },
  "language_info": {
   "codemirror_mode": {
    "name": "ipython",
    "version": 3
   },
   "file_extension": ".py",
   "mimetype": "text/x-python",
   "name": "python",
   "nbconvert_exporter": "python",
   "pygments_lexer": "ipython3",
   "version": "3.8.5"
  }
 },
 "nbformat": 4,
 "nbformat_minor": 5
}